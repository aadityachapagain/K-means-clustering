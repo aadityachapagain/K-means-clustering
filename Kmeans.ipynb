{
 "cells": [
  {
   "cell_type": "markdown",
   "metadata": {},
   "source": [
    "## K means clustering"
   ]
  },
  {
   "cell_type": "code",
   "execution_count": 1,
   "metadata": {},
   "outputs": [],
   "source": [
    "from PIL import Image\n",
    "import random\n",
    "from itertools import chain"
   ]
  },
  {
   "cell_type": "markdown",
   "metadata": {},
   "source": [
    "### Trying K-means clustering  "
   ]
  },
  {
   "cell_type": "code",
   "execution_count": 2,
   "metadata": {},
   "outputs": [],
   "source": [
    "class kmeans():\n",
    "    \"\"\"Cluster pixels by k means algorithm\"\"\"\n",
    "    def __init__(self, filepath, k = 10):\n",
    "        self.img = Image.open(filepath)\n",
    "        self.img.show()\n",
    "        self.k = k\n",
    "        self.pixelMap = self.img.load()\n",
    "        #TODO: Donno how to sample from generator?\n",
    "        self.pixels_xy = [ (x,y) for x in range(self.img.size[0])\n",
    "                           for y in range(self.img.size[1]) ]\n",
    "        self.__initialize_k_dict__( random.sample( self.pixels_xy, self.k ) )\n",
    "\n",
    "    def __initialize_k_dict__(self, k_vals):\n",
    "        \"\"\"Generate dictionary of k clusters based on list of (x,y) tuples for k means\"\"\"\n",
    "        # Initialize k clusters with pixels in group, starting with points representing k clusters themselves\n",
    "        self.d_k_clusters = { self.xy2xyrgb(t_xy): [ self.xy2xyrgb(t_xy) ]\n",
    "                              for t_xy in k_vals }\n",
    "\n",
    "\n",
    "    def minimize_distance(self, pixel, metric):\n",
    "        \"\"\"Given tuple representing pixel in image, return k group that minimizes distance by given metric\"\"\"\n",
    "        dists = [ (k, metric(pixel, k)) for k in self.d_k_clusters.keys() ]\n",
    "        # find tuple representing best k group by minimizing distance\n",
    "        best_k, _ = min( dists, key = lambda t: t[1] )\n",
    "        return best_k\n",
    "\n",
    "\n",
    "    def xy2xyrgb(self, t_xy):\n",
    "        \"\"\"Given (x,y) of pixel, returns ((x,y), (R, G, B))\"\"\"\n",
    "        return ( t_xy, self.pixelMap[ t_xy[0], t_xy[1] ] )\n",
    "\n",
    "\n",
    "    def assign_pixels(self, metric):\n",
    "        \"\"\"Assign all pixels in image to closest matching group in self.d_k_groups, according to given distance metric\"\"\"\n",
    "        print ('assigning pixels')\n",
    "        for t in ( (x,y) for x in range(0, self.img.size[0])\n",
    "                   for y in range(0, self.img.size[1]) ):\n",
    "            # convert (x, y) of pixel location to ((x, y), (r, g, b))\n",
    "            tval = self.xy2xyrgb(t)\n",
    "            # append to dictionary value list corresponding to key of k-mean\n",
    "            # that minimizes distance by given metric\n",
    "            self.d_k_clusters[ self.minimize_distance( tval, metric ) ].append(tval)\n",
    "\n",
    "\n",
    "    def generate_image(self, warholize=False):\n",
    "        \"\"\"Once all pixels have been assigned to k clusters, use d_k_clusters to generate image data, with new pixel values determined by mean RGB of the cluster, or random color palette if warholize=True\"\"\"\n",
    "        self.new_img = Image.new('RGB', self.img.size, \"black\")\n",
    "        # create pixel map\n",
    "        pixels = self.new_img.load()\n",
    "\n",
    "        def mean_rgb(k):\n",
    "            \"\"\"Given key value in self.d_k_clusters, return k mean by averaging (r,g,b) value over all values in group\"\"\"\n",
    "            vals = self.d_k_clusters[k]\n",
    "            # in order to sum tuple values, zip all tuples via splatted generator of (r,g,b) vals\n",
    "            summed_rgb = tuple( sum(rgb) for rgb in zip( *( v[1] for v in vals )) )\n",
    "            return tuple( int(rgb / len(vals)) for rgb in summed_rgb )\n",
    "\n",
    "        if warholize:\n",
    "            random_colors = random_color_palette(self.k)\n",
    "\n",
    "        print ('putting pixels')\n",
    "\n",
    "        for i, (k, v_list) in enumerate(self.d_k_clusters.items()):\n",
    "            #print '.'\n",
    "            pixelval = ( random_colors[i] if warholize else mean_rgb(k) )\n",
    "\n",
    "            for t_xy, _ in v_list:\n",
    "                pixels[t_xy[0], t_xy[1]] = pixelval\n",
    "\n",
    "        self.new_img.show()"
   ]
  },
  {
   "cell_type": "markdown",
   "metadata": {},
   "source": [
    "### Eulidean Distance between two points"
   ]
  },
  {
   "cell_type": "code",
   "execution_count": 3,
   "metadata": {},
   "outputs": [],
   "source": [
    "def euclidean_dist(p1, p2):\n",
    "    \"\"\"Compute Euclidean distance between 2 pts\"\"\"\n",
    "    return sum( abs(x1-x2) for x1, x2 in zip(chain.from_iterable(p1),\n",
    "                                              chain.from_iterable(p2)) )**0.5\n"
   ]
  },
  {
   "cell_type": "markdown",
   "metadata": {},
   "source": [
    "### Random color Generator (REF : WIKI)"
   ]
  },
  {
   "cell_type": "code",
   "execution_count": 4,
   "metadata": {},
   "outputs": [],
   "source": [
    "def random_color_palette(n, RGB=True):\n",
    "    \"\"\"Generates a random , aesthetically pleasing  (THanks to Wiki)\"\"\"\n",
    "    # see: https://en.wikipedia.org/wiki/HSL_and_HSV#Converting_to_RGB\n",
    "    SATURATION = 0.6\n",
    "    VALUE = 0.95\n",
    "    GOLDEN_RATIO_INVERSE = 0.618033988749895\n",
    "    def hsv2rgb(hsv):\n",
    "        h, s, v = hsv\n",
    "        # compute chroma\n",
    "        c = v*s\n",
    "        h_prime = h*6.0\n",
    "        x = c*( 1 - abs(h_prime %2 - 1) )\n",
    "        if h_prime >= 5: rgb = (c,0,x)\n",
    "        elif h_prime >= 4: rgb = (x,0,c)\n",
    "        elif h_prime >= 3: rgb = (0,x,c)\n",
    "        elif h_prime >= 2: rgb = (0,c,x)\n",
    "        elif h_prime >= 1: rgb = (x,c,0)\n",
    "        else: rgb = (c,x,0)\n",
    "        m = v-c\n",
    "        return tuple( int(255*(val+m)) for val in rgb )\n",
    "\n",
    "    # random float in [0.0, 1.0)\n",
    "    hue = random.random()\n",
    "    l_hues = [hue]\n",
    "\n",
    "    for i in range(n-1):\n",
    "        # generate evenly distributed hues by random walk using the golden ratio!\n",
    "        # (mod 1, to stay within hue space)\n",
    "        hue += GOLDEN_RATIO_INVERSE\n",
    "        hue %= 1\n",
    "        l_hues.append(hue)\n",
    "\n",
    "    if not RGB:\n",
    "        return [ (h, SATURATION, VALUE) for h in l_hues ]\n",
    "\n",
    "    return [ hsv2rgb((h, SATURATION, VALUE)) for h in l_hues ]"
   ]
  },
  {
   "cell_type": "markdown",
   "metadata": {},
   "source": [
    "### Implement Above process to cluster the Image"
   ]
  },
  {
   "cell_type": "code",
   "execution_count": 5,
   "metadata": {},
   "outputs": [],
   "source": [
    "def implement(infile, k, warholize=False):\n",
    "    x = kmeans(infile, k=k)\n",
    "    x.assign_pixels(metric=euclidean_dist)\n",
    "    x.generate_image(warholize=warholize)"
   ]
  },
  {
   "cell_type": "markdown",
   "metadata": {},
   "source": [
    "### Image location and  No of centroids"
   ]
  },
  {
   "cell_type": "code",
   "execution_count": 6,
   "metadata": {},
   "outputs": [],
   "source": [
    "FILE_IN = 'image.jpg'\n",
    "K=40"
   ]
  },
  {
   "cell_type": "code",
   "execution_count": 7,
   "metadata": {},
   "outputs": [
    {
     "name": "stdout",
     "output_type": "stream",
     "text": [
      "assigning pixels\n",
      "putting pixels\n"
     ]
    }
   ],
   "source": [
    "implement(FILE_IN, K)"
   ]
  },
  {
   "cell_type": "code",
   "execution_count": null,
   "metadata": {},
   "outputs": [],
   "source": []
  }
 ],
 "metadata": {
  "kernelspec": {
   "display_name": "Python 3",
   "language": "python",
   "name": "python3"
  },
  "language_info": {
   "codemirror_mode": {
    "name": "ipython",
    "version": 3
   },
   "file_extension": ".py",
   "mimetype": "text/x-python",
   "name": "python",
   "nbconvert_exporter": "python",
   "pygments_lexer": "ipython3",
   "version": "3.6.8"
  }
 },
 "nbformat": 4,
 "nbformat_minor": 2
}
