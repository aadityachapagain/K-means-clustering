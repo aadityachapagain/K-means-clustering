{
 "cells": [
  {
   "cell_type": "code",
   "execution_count": 1,
   "metadata": {},
   "outputs": [
    {
     "ename": "AttributeError",
     "evalue": "'NoneType' object has no attribute 'ndim'",
     "output_type": "error",
     "traceback": [
      "\u001b[1;31m---------------------------------------------------------------------------\u001b[0m",
      "\u001b[1;31mAttributeError\u001b[0m                            Traceback (most recent call last)",
      "\u001b[1;32m<ipython-input-1-04872111e79c>\u001b[0m in \u001b[0;36m<module>\u001b[1;34m\u001b[0m\n\u001b[0;32m      8\u001b[0m \u001b[1;33m\u001b[0m\u001b[0m\n\u001b[0;32m      9\u001b[0m \u001b[1;31m# Get Number of Channels 1 for grayscal 3 for rgb\u001b[0m\u001b[1;33m\u001b[0m\u001b[1;33m\u001b[0m\u001b[1;33m\u001b[0m\u001b[0m\n\u001b[1;32m---> 10\u001b[1;33m \u001b[0mnchannels\u001b[0m \u001b[1;33m=\u001b[0m \u001b[0mimg\u001b[0m\u001b[1;33m.\u001b[0m\u001b[0mndim\u001b[0m\u001b[1;33m\u001b[0m\u001b[1;33m\u001b[0m\u001b[0m\n\u001b[0m\u001b[0;32m     11\u001b[0m \u001b[1;33m\u001b[0m\u001b[0m\n\u001b[0;32m     12\u001b[0m \u001b[1;31m#image conversion try ..\u001b[0m\u001b[1;33m\u001b[0m\u001b[1;33m\u001b[0m\u001b[1;33m\u001b[0m\u001b[0m\n",
      "\u001b[1;31mAttributeError\u001b[0m: 'NoneType' object has no attribute 'ndim'"
     ]
    }
   ],
   "source": [
    "import numpy as np\n",
    "import cv2\n",
    "\n",
    "# Read Image\n",
    "img = cv2.imread('download.jpg')\n",
    "\n",
    "# Get Number of Channels 1 for grayscal 3 for rgb\n",
    "nchannels = img.ndim\n",
    "\n",
    "#image conversion try ..\n",
    "\n",
    "# here we are taking each channel of image as a feature.. \n",
    "# for RGB color image => B G and R \n",
    "# for gray scale => intensity\n",
    "# A feature is represented by a column vector\n",
    "img_vec = img.reshape(-1,nchannels)\n",
    "\n",
    "# convert to np.float32\n",
    "img_vec = np.float32(img_vec)\n",
    "def kmeans(num_clusters):\n",
    "    # define number of clusters\n",
    "#     num_clusters = 4\n",
    "\n",
    "    # Termination criteria\n",
    "    # he maximum number of iterations and/or the desired accuracy\n",
    "\n",
    "    # set maximum iterations\n",
    "    max_iter = 10\n",
    "\n",
    "    # set desired accuracy\n",
    "    epsilon = 1.0\n",
    "\n",
    "    # define termination criteria\n",
    "    term_criteria = (cv2.TERM_CRITERIA_EPS + cv2.TERM_CRITERIA_MAX_ITER, max_iter, epsilon)\n",
    "\n",
    "     # number of times the algorithm is executed using different initial labellings\n",
    "     # The algorithm returns the labels that yield the best compactness\n",
    "    nattempts = 10\n",
    "\n",
    "    # initialize center\n",
    "    center_flag = cv2.KMEANS_RANDOM_CENTERS\n",
    "    #center_flag = cv2.KMEANS_PP_CENTERS\n",
    "\n",
    "    # Perform K-means clusteing\n",
    "    # returns\n",
    "    # compactness : sum of squared distance from each point to their corresponding centers\n",
    "    # labels : label array where each element marked '0', .., num_clusters-1\n",
    "    # centers : array of centers of clusters.\n",
    "\n",
    "    compactness, labels, centers = cv2.kmeans(img_vec, num_clusters, None, term_criteria, nattempts,center_flag)\n",
    "\n",
    "    # Display Images \n",
    "\n",
    "    img_size = img.shape\n",
    "\n",
    "#     Original Image \n",
    "    cv2.imshow('Original Image', img)\n",
    "\n",
    "    # labels as grayimage\n",
    "\n",
    "\n",
    "\n",
    "    # colors = np.random.uniform(low = 0, high = 255, size = (num_clusters, 3))\n",
    "    # colors = np.append(colors, [[0, 0, 0]], axis = 0)\n",
    "    # colors = np.uint8(colors)\n",
    "    # segmented images with labels with intensity value of their centers in orginal image\n",
    "\n",
    "    # labels_copy = labels.copy()\n",
    "    # for i in range(10):\n",
    "    #     labels = labels_copy.copy()\n",
    "    #     for j in range(10):\n",
    "    #         if i != j:\n",
    "    #             labels[labels == j] = num_clusters \n",
    "    #     print(np.unique(labels))\n",
    "    #     res = colors[labels.flatten()]\n",
    "    #     res2 = res.reshape(img_size)\n",
    "    #     cv2.imshow('Segmentes image' + str(i), res2)\n",
    "\n",
    "    # label vector to 2D image\n",
    "#     labelim = labels.reshape((img_size[0],img_size[1]))\n",
    "#     # scale in range 0-255\n",
    "#     labelim = np.uint8(255*labelim/(num_clusters-1))\n",
    "\n",
    "#     cv2.imshow('labels', labelim)\n",
    "\n",
    "\n",
    "    # segmented images with labels with intensity value of their centers in orginal image\n",
    "    center = np.uint8(centers)\n",
    "\n",
    "    # res = center[labels.flatten()]\n",
    "    np.random.seed(7)\n",
    "#     colors = np.random.uniform(low = 0, high = 255, size = (num_clusters, 3))\n",
    "    color = []\n",
    "    for i in range(0, 255, 50):\n",
    "        for j in range(0, 255, 50):\n",
    "            for k in range(0, 255, 50):\n",
    "                color.append([i, j, k])\n",
    "                \n",
    "    from scipy.spatial import distance            \n",
    "    for i in range(len(center)):\n",
    "        dst = []\n",
    "        for j in range(len(color)):\n",
    "            dst.append(distance.euclidean(center[i], color[j]))\n",
    "        index = np.argmin(dst)\n",
    "        center[i] = color[index]\n",
    "\n",
    "#     colors = [[204, 0, 204], [96, 96, 96], [255, 128, 0], [102, 55, 55], [0, 51, 51], [76, 153, 0]]\n",
    "#     colors = np.uint8(colors)\n",
    "\n",
    "    res = center[labels.flatten()]\n",
    "\n",
    "    res2 = res.reshape(img_size)\n",
    "\n",
    "    cv2.imshow('cartoon',res2)\n",
    "\n",
    "    # wait until ESC key is pressed\n",
    "    cv2.waitKey(0)\n",
    "    cv2.destroyAllWindows()"
   ]
  },
  {
   "cell_type": "code",
   "execution_count": 2,
   "metadata": {},
   "outputs": [],
   "source": [
    "cv2.imshow('Original Image', img)\n",
    "kmeans(1)\n",
    "kmeans(2)\n",
    "kmeans(3)\n",
    "kmeans(4)\n",
    "kmeans(5)\n",
    "kmeans(6)\n",
    "kmeans(7)"
   ]
  },
  {
   "cell_type": "code",
   "execution_count": 3,
   "metadata": {},
   "outputs": [],
   "source": [
    "kmeans(25)"
   ]
  },
  {
   "cell_type": "code",
   "execution_count": 2,
   "metadata": {},
   "outputs": [
    {
     "name": "stdout",
     "output_type": "stream",
     "text": [
      "[[0, 0, 0], [0, 0, 50], [0, 0, 100], [0, 0, 150], [0, 0, 200], [0, 0, 250], [0, 50, 0], [0, 50, 50], [0, 50, 100], [0, 50, 150], [0, 50, 200], [0, 50, 250], [0, 100, 0], [0, 100, 50], [0, 100, 100], [0, 100, 150], [0, 100, 200], [0, 100, 250], [0, 150, 0], [0, 150, 50], [0, 150, 100], [0, 150, 150], [0, 150, 200], [0, 150, 250], [0, 200, 0], [0, 200, 50], [0, 200, 100], [0, 200, 150], [0, 200, 200], [0, 200, 250], [0, 250, 0], [0, 250, 50], [0, 250, 100], [0, 250, 150], [0, 250, 200], [0, 250, 250], [50, 0, 0], [50, 0, 50], [50, 0, 100], [50, 0, 150], [50, 0, 200], [50, 0, 250], [50, 50, 0], [50, 50, 50], [50, 50, 100], [50, 50, 150], [50, 50, 200], [50, 50, 250], [50, 100, 0], [50, 100, 50], [50, 100, 100], [50, 100, 150], [50, 100, 200], [50, 100, 250], [50, 150, 0], [50, 150, 50], [50, 150, 100], [50, 150, 150], [50, 150, 200], [50, 150, 250], [50, 200, 0], [50, 200, 50], [50, 200, 100], [50, 200, 150], [50, 200, 200], [50, 200, 250], [50, 250, 0], [50, 250, 50], [50, 250, 100], [50, 250, 150], [50, 250, 200], [50, 250, 250], [100, 0, 0], [100, 0, 50], [100, 0, 100], [100, 0, 150], [100, 0, 200], [100, 0, 250], [100, 50, 0], [100, 50, 50], [100, 50, 100], [100, 50, 150], [100, 50, 200], [100, 50, 250], [100, 100, 0], [100, 100, 50], [100, 100, 100], [100, 100, 150], [100, 100, 200], [100, 100, 250], [100, 150, 0], [100, 150, 50], [100, 150, 100], [100, 150, 150], [100, 150, 200], [100, 150, 250], [100, 200, 0], [100, 200, 50], [100, 200, 100], [100, 200, 150], [100, 200, 200], [100, 200, 250], [100, 250, 0], [100, 250, 50], [100, 250, 100], [100, 250, 150], [100, 250, 200], [100, 250, 250], [150, 0, 0], [150, 0, 50], [150, 0, 100], [150, 0, 150], [150, 0, 200], [150, 0, 250], [150, 50, 0], [150, 50, 50], [150, 50, 100], [150, 50, 150], [150, 50, 200], [150, 50, 250], [150, 100, 0], [150, 100, 50], [150, 100, 100], [150, 100, 150], [150, 100, 200], [150, 100, 250], [150, 150, 0], [150, 150, 50], [150, 150, 100], [150, 150, 150], [150, 150, 200], [150, 150, 250], [150, 200, 0], [150, 200, 50], [150, 200, 100], [150, 200, 150], [150, 200, 200], [150, 200, 250], [150, 250, 0], [150, 250, 50], [150, 250, 100], [150, 250, 150], [150, 250, 200], [150, 250, 250], [200, 0, 0], [200, 0, 50], [200, 0, 100], [200, 0, 150], [200, 0, 200], [200, 0, 250], [200, 50, 0], [200, 50, 50], [200, 50, 100], [200, 50, 150], [200, 50, 200], [200, 50, 250], [200, 100, 0], [200, 100, 50], [200, 100, 100], [200, 100, 150], [200, 100, 200], [200, 100, 250], [200, 150, 0], [200, 150, 50], [200, 150, 100], [200, 150, 150], [200, 150, 200], [200, 150, 250], [200, 200, 0], [200, 200, 50], [200, 200, 100], [200, 200, 150], [200, 200, 200], [200, 200, 250], [200, 250, 0], [200, 250, 50], [200, 250, 100], [200, 250, 150], [200, 250, 200], [200, 250, 250], [250, 0, 0], [250, 0, 50], [250, 0, 100], [250, 0, 150], [250, 0, 200], [250, 0, 250], [250, 50, 0], [250, 50, 50], [250, 50, 100], [250, 50, 150], [250, 50, 200], [250, 50, 250], [250, 100, 0], [250, 100, 50], [250, 100, 100], [250, 100, 150], [250, 100, 200], [250, 100, 250], [250, 150, 0], [250, 150, 50], [250, 150, 100], [250, 150, 150], [250, 150, 200], [250, 150, 250], [250, 200, 0], [250, 200, 50], [250, 200, 100], [250, 200, 150], [250, 200, 200], [250, 200, 250], [250, 250, 0], [250, 250, 50], [250, 250, 100], [250, 250, 150], [250, 250, 200], [250, 250, 250]]\n"
     ]
    }
   ],
   "source": [
    "color = []\n",
    "for i in range(0, 255, 50):\n",
    "    for j in range(0, 255, 50):\n",
    "        for k in range(0, 255, 50):\n",
    "            color.append([i, j, k])\n",
    "print(color)"
   ]
  },
  {
   "cell_type": "code",
   "execution_count": 3,
   "metadata": {},
   "outputs": [],
   "source": [
    "from scipy.spatial import distance"
   ]
  },
  {
   "cell_type": "code",
   "execution_count": null,
   "metadata": {},
   "outputs": [],
   "source": [
    "distance.euclidean()"
   ]
  }
 ],
 "metadata": {
  "kernelspec": {
   "display_name": "Python 3",
   "language": "python",
   "name": "python3"
  },
  "language_info": {
   "codemirror_mode": {
    "name": "ipython",
    "version": 3
   },
   "file_extension": ".py",
   "mimetype": "text/x-python",
   "name": "python",
   "nbconvert_exporter": "python",
   "pygments_lexer": "ipython3",
   "version": "3.6.8"
  }
 },
 "nbformat": 4,
 "nbformat_minor": 2
}
